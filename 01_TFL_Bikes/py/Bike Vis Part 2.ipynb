{
 "cells": [
  {
   "cell_type": "markdown",
   "metadata": {},
   "source": [
    "Notebook example that shows how datashader can be used to produce a plot (from the data obtained in previous python notebook: Bike Vis.ipynb)"
   ]
  },
  {
   "cell_type": "code",
   "execution_count": 27,
   "metadata": {
    "collapsed": false
   },
   "outputs": [],
   "source": [
    "from bokeh.models import GeoJSONDataSource\n",
    "from bokeh.io import output_notebook, output_file, save\n",
    "from bokeh.sampledata.sample_geojson import geojson\n",
    "from datashader.bokeh_ext import InteractiveImage\n",
    "from datashader.utils import export_image\n",
    "from functools import partial\n",
    "import bokeh.plotting as bp\n",
    "import datashader.transfer_functions as tf\n",
    "import datashader as ds\n",
    "import pandas as pd\n",
    "import numpy as np\n",
    "#import ogr2ogr\n",
    "import json"
   ]
  },
  {
   "cell_type": "code",
   "execution_count": 2,
   "metadata": {
    "collapsed": false
   },
   "outputs": [
    {
     "data": {
      "text/html": [
       "\n",
       "    <div class=\"bk-root\">\n",
       "        <a href=\"http://bokeh.pydata.org\" target=\"_blank\" class=\"bk-logo bk-logo-small bk-logo-notebook\"></a>\n",
       "        <span id=\"376b0883-d723-4fb6-935f-096cdd99beed\">Loading BokehJS ...</span>\n",
       "    </div>"
      ]
     },
     "metadata": {},
     "output_type": "display_data"
    },
    {
     "data": {
      "application/javascript": [
       "\n",
       "(function(global) {\n",
       "  function now() {\n",
       "    return new Date();\n",
       "  }\n",
       "\n",
       "  var force = \"1\";\n",
       "\n",
       "  if (typeof (window._bokeh_onload_callbacks) === \"undefined\" || force !== \"\") {\n",
       "    window._bokeh_onload_callbacks = [];\n",
       "    window._bokeh_is_loading = undefined;\n",
       "  }\n",
       "\n",
       "\n",
       "  \n",
       "  if (typeof (window._bokeh_timeout) === \"undefined\" || force !== \"\") {\n",
       "    window._bokeh_timeout = Date.now() + 5000;\n",
       "    window._bokeh_failed_load = false;\n",
       "  }\n",
       "\n",
       "  var NB_LOAD_WARNING = {'data': {'text/html':\n",
       "     \"<div style='background-color: #fdd'>\\n\"+\n",
       "     \"<p>\\n\"+\n",
       "     \"BokehJS does not appear to have successfully loaded. If loading BokehJS from CDN, this \\n\"+\n",
       "     \"may be due to a slow or bad network connection. Possible fixes:\\n\"+\n",
       "     \"</p>\\n\"+\n",
       "     \"<ul>\\n\"+\n",
       "     \"<li>re-rerun `output_notebook()` to attempt to load from CDN again, or</li>\\n\"+\n",
       "     \"<li>use INLINE resources instead, as so:</li>\\n\"+\n",
       "     \"</ul>\\n\"+\n",
       "     \"<code>\\n\"+\n",
       "     \"from bokeh.resources import INLINE\\n\"+\n",
       "     \"output_notebook(resources=INLINE)\\n\"+\n",
       "     \"</code>\\n\"+\n",
       "     \"</div>\"}};\n",
       "\n",
       "  function display_loaded() {\n",
       "    if (window.Bokeh !== undefined) {\n",
       "      Bokeh.$(\"#376b0883-d723-4fb6-935f-096cdd99beed\").text(\"BokehJS successfully loaded.\");\n",
       "    } else if (Date.now() < window._bokeh_timeout) {\n",
       "      setTimeout(display_loaded, 100)\n",
       "    }\n",
       "  }\n",
       "\n",
       "  function run_callbacks() {\n",
       "    window._bokeh_onload_callbacks.forEach(function(callback) { callback() });\n",
       "    delete window._bokeh_onload_callbacks\n",
       "    console.info(\"Bokeh: all callbacks have finished\");\n",
       "  }\n",
       "\n",
       "  function load_libs(js_urls, callback) {\n",
       "    window._bokeh_onload_callbacks.push(callback);\n",
       "    if (window._bokeh_is_loading > 0) {\n",
       "      console.log(\"Bokeh: BokehJS is being loaded, scheduling callback at\", now());\n",
       "      return null;\n",
       "    }\n",
       "    if (js_urls == null || js_urls.length === 0) {\n",
       "      run_callbacks();\n",
       "      return null;\n",
       "    }\n",
       "    console.log(\"Bokeh: BokehJS not loaded, scheduling load and callback at\", now());\n",
       "    window._bokeh_is_loading = js_urls.length;\n",
       "    for (var i = 0; i < js_urls.length; i++) {\n",
       "      var url = js_urls[i];\n",
       "      var s = document.createElement('script');\n",
       "      s.src = url;\n",
       "      s.async = false;\n",
       "      s.onreadystatechange = s.onload = function() {\n",
       "        window._bokeh_is_loading--;\n",
       "        if (window._bokeh_is_loading === 0) {\n",
       "          console.log(\"Bokeh: all BokehJS libraries loaded\");\n",
       "          run_callbacks()\n",
       "        }\n",
       "      };\n",
       "      s.onerror = function() {\n",
       "        console.warn(\"failed to load library \" + url);\n",
       "      };\n",
       "      console.log(\"Bokeh: injecting script tag for BokehJS library: \", url);\n",
       "      document.getElementsByTagName(\"head\")[0].appendChild(s);\n",
       "    }\n",
       "  };var element = document.getElementById(\"376b0883-d723-4fb6-935f-096cdd99beed\");\n",
       "  if (element == null) {\n",
       "    console.log(\"Bokeh: ERROR: autoload.js configured with elementid '376b0883-d723-4fb6-935f-096cdd99beed' but no matching script tag was found. \")\n",
       "    return false;\n",
       "  }\n",
       "\n",
       "  var js_urls = ['https://cdn.pydata.org/bokeh/release/bokeh-0.12.2.min.js', 'https://cdn.pydata.org/bokeh/release/bokeh-widgets-0.12.2.min.js', 'https://cdn.pydata.org/bokeh/release/bokeh-compiler-0.12.2.min.js'];\n",
       "\n",
       "  var inline_js = [\n",
       "    function(Bokeh) {\n",
       "      Bokeh.set_log_level(\"info\");\n",
       "    },\n",
       "    \n",
       "    function(Bokeh) {\n",
       "      \n",
       "      Bokeh.$(\"#376b0883-d723-4fb6-935f-096cdd99beed\").text(\"BokehJS is loading...\");\n",
       "    },\n",
       "    function(Bokeh) {\n",
       "      console.log(\"Bokeh: injecting CSS: https://cdn.pydata.org/bokeh/release/bokeh-0.12.2.min.css\");\n",
       "      Bokeh.embed.inject_css(\"https://cdn.pydata.org/bokeh/release/bokeh-0.12.2.min.css\");\n",
       "      console.log(\"Bokeh: injecting CSS: https://cdn.pydata.org/bokeh/release/bokeh-widgets-0.12.2.min.css\");\n",
       "      Bokeh.embed.inject_css(\"https://cdn.pydata.org/bokeh/release/bokeh-widgets-0.12.2.min.css\");\n",
       "    }\n",
       "  ];\n",
       "\n",
       "  function run_inline_js() {\n",
       "    \n",
       "    if ((window.Bokeh !== undefined) || (force === \"1\")) {\n",
       "      for (var i = 0; i < inline_js.length; i++) {\n",
       "        inline_js[i](window.Bokeh);\n",
       "      }if (force === \"1\") {\n",
       "        display_loaded();\n",
       "      }} else if (Date.now() < window._bokeh_timeout) {\n",
       "      setTimeout(run_inline_js, 100);\n",
       "    } else if (!window._bokeh_failed_load) {\n",
       "      console.log(\"Bokeh: BokehJS failed to load within specified timeout.\");\n",
       "      window._bokeh_failed_load = true;\n",
       "    } else if (!force) {\n",
       "      var cell = $(\"#376b0883-d723-4fb6-935f-096cdd99beed\").parents('.cell').data().cell;\n",
       "      cell.output_area.append_execute_result(NB_LOAD_WARNING)\n",
       "    }\n",
       "\n",
       "  }\n",
       "\n",
       "  if (window._bokeh_is_loading === 0) {\n",
       "    console.log(\"Bokeh: BokehJS loaded, going straight to plotting\");\n",
       "    run_inline_js();\n",
       "  } else {\n",
       "    load_libs(js_urls, function() {\n",
       "      console.log(\"Bokeh: BokehJS plotting callback run at\", now());\n",
       "      run_inline_js();\n",
       "    });\n",
       "  }\n",
       "}(this));"
      ]
     },
     "metadata": {},
     "output_type": "display_data"
    }
   ],
   "source": [
    "output_notebook()"
   ]
  },
  {
   "cell_type": "markdown",
   "metadata": {},
   "source": [
    "### Test out a poly-plot to see how it works"
   ]
  },
  {
   "cell_type": "code",
   "execution_count": 3,
   "metadata": {
    "collapsed": true
   },
   "outputs": [],
   "source": [
    "geo_source = GeoJSONDataSource(geojson=geojson)"
   ]
  },
  {
   "cell_type": "code",
   "execution_count": 4,
   "metadata": {
    "collapsed": false
   },
   "outputs": [
    {
     "name": "stdout",
     "output_type": "stream",
     "text": [
      "features\n",
      "type\n"
     ]
    }
   ],
   "source": [
    "for it in json.loads(geojson):\n",
    "    print(it)"
   ]
  },
  {
   "cell_type": "code",
   "execution_count": 5,
   "metadata": {
    "collapsed": false
   },
   "outputs": [
    {
     "data": {
      "text/plain": [
       "'FeatureCollection'"
      ]
     },
     "execution_count": 5,
     "metadata": {},
     "output_type": "execute_result"
    }
   ],
   "source": [
    "json.loads(geojson)['type']"
   ]
  },
  {
   "cell_type": "code",
   "execution_count": 6,
   "metadata": {
    "collapsed": false
   },
   "outputs": [
    {
     "data": {
      "text/plain": [
       "25"
      ]
     },
     "execution_count": 6,
     "metadata": {},
     "output_type": "execute_result"
    }
   ],
   "source": [
    "len(json.loads(geojson)['features'])"
   ]
  },
  {
   "cell_type": "code",
   "execution_count": 7,
   "metadata": {
    "collapsed": false
   },
   "outputs": [
    {
     "data": {
      "text/plain": [
       "{'geometry': {'coordinates': [-2.1208465099334717, 51.4613151550293],\n",
       "  'type': 'Point'},\n",
       " 'id': '463098',\n",
       " 'properties': {'Address1': '1st Floor',\n",
       "  'Address2': 'Bewley House',\n",
       "  'Address3': 'Marshfield Road',\n",
       "  'City': 'Chippenham',\n",
       "  'County': 'Wiltshire',\n",
       "  'Email': 'england.contactus@nhs.net',\n",
       "  'IsPimsManaged': 'True',\n",
       "  'OrganisationCode': 'Q64',\n",
       "  'OrganisationName': 'Bath, Gloucestershire, Swindon And Wiltshire Area Team',\n",
       "  'OrganisationStatus': 'Visible',\n",
       "  'OrganisationType': 'Area Team',\n",
       "  'Phone': '0113 8251 500',\n",
       "  'Postcode': 'SN15 1JW',\n",
       "  'SubType': 'UNKNOWN',\n",
       "  'Website': 'http://www.england.nhs.uk/south/south/bgsw-at/'},\n",
       " 'type': 'Feature'}"
      ]
     },
     "execution_count": 7,
     "metadata": {},
     "output_type": "execute_result"
    }
   ],
   "source": [
    "json.loads(geojson)['features'][0]"
   ]
  },
  {
   "cell_type": "code",
   "execution_count": 8,
   "metadata": {
    "collapsed": true
   },
   "outputs": [],
   "source": [
    "plot_json = json.loads(geojson)\n",
    "plot_json['features'] = plot_json['features'][:5]  # Just 5"
   ]
  },
  {
   "cell_type": "code",
   "execution_count": 9,
   "metadata": {
    "collapsed": false
   },
   "outputs": [],
   "source": [
    "# Kick back to json\n",
    "geo_source = GeoJSONDataSource(geojson=json.dumps(plot_json))"
   ]
  },
  {
   "cell_type": "code",
   "execution_count": 10,
   "metadata": {
    "collapsed": false
   },
   "outputs": [
    {
     "data": {
      "text/html": [
       "\n",
       "\n",
       "    <div class=\"bk-root\">\n",
       "        <div class=\"plotdiv\" id=\"21f7ee45-fc31-468c-ad49-98fd9d9d1063\"></div>\n",
       "    </div>\n",
       "<script type=\"text/javascript\">\n",
       "  \n",
       "  (function(global) {\n",
       "    function now() {\n",
       "      return new Date();\n",
       "    }\n",
       "  \n",
       "    var force = \"\";\n",
       "  \n",
       "    if (typeof (window._bokeh_onload_callbacks) === \"undefined\" || force !== \"\") {\n",
       "      window._bokeh_onload_callbacks = [];\n",
       "      window._bokeh_is_loading = undefined;\n",
       "    }\n",
       "  \n",
       "  \n",
       "    \n",
       "    if (typeof (window._bokeh_timeout) === \"undefined\" || force !== \"\") {\n",
       "      window._bokeh_timeout = Date.now() + 0;\n",
       "      window._bokeh_failed_load = false;\n",
       "    }\n",
       "  \n",
       "    var NB_LOAD_WARNING = {'data': {'text/html':\n",
       "       \"<div style='background-color: #fdd'>\\n\"+\n",
       "       \"<p>\\n\"+\n",
       "       \"BokehJS does not appear to have successfully loaded. If loading BokehJS from CDN, this \\n\"+\n",
       "       \"may be due to a slow or bad network connection. Possible fixes:\\n\"+\n",
       "       \"</p>\\n\"+\n",
       "       \"<ul>\\n\"+\n",
       "       \"<li>re-rerun `output_notebook()` to attempt to load from CDN again, or</li>\\n\"+\n",
       "       \"<li>use INLINE resources instead, as so:</li>\\n\"+\n",
       "       \"</ul>\\n\"+\n",
       "       \"<code>\\n\"+\n",
       "       \"from bokeh.resources import INLINE\\n\"+\n",
       "       \"output_notebook(resources=INLINE)\\n\"+\n",
       "       \"</code>\\n\"+\n",
       "       \"</div>\"}};\n",
       "  \n",
       "    function display_loaded() {\n",
       "      if (window.Bokeh !== undefined) {\n",
       "        Bokeh.$(\"#21f7ee45-fc31-468c-ad49-98fd9d9d1063\").text(\"BokehJS successfully loaded.\");\n",
       "      } else if (Date.now() < window._bokeh_timeout) {\n",
       "        setTimeout(display_loaded, 100)\n",
       "      }\n",
       "    }\n",
       "  \n",
       "    function run_callbacks() {\n",
       "      window._bokeh_onload_callbacks.forEach(function(callback) { callback() });\n",
       "      delete window._bokeh_onload_callbacks\n",
       "      console.info(\"Bokeh: all callbacks have finished\");\n",
       "    }\n",
       "  \n",
       "    function load_libs(js_urls, callback) {\n",
       "      window._bokeh_onload_callbacks.push(callback);\n",
       "      if (window._bokeh_is_loading > 0) {\n",
       "        console.log(\"Bokeh: BokehJS is being loaded, scheduling callback at\", now());\n",
       "        return null;\n",
       "      }\n",
       "      if (js_urls == null || js_urls.length === 0) {\n",
       "        run_callbacks();\n",
       "        return null;\n",
       "      }\n",
       "      console.log(\"Bokeh: BokehJS not loaded, scheduling load and callback at\", now());\n",
       "      window._bokeh_is_loading = js_urls.length;\n",
       "      for (var i = 0; i < js_urls.length; i++) {\n",
       "        var url = js_urls[i];\n",
       "        var s = document.createElement('script');\n",
       "        s.src = url;\n",
       "        s.async = false;\n",
       "        s.onreadystatechange = s.onload = function() {\n",
       "          window._bokeh_is_loading--;\n",
       "          if (window._bokeh_is_loading === 0) {\n",
       "            console.log(\"Bokeh: all BokehJS libraries loaded\");\n",
       "            run_callbacks()\n",
       "          }\n",
       "        };\n",
       "        s.onerror = function() {\n",
       "          console.warn(\"failed to load library \" + url);\n",
       "        };\n",
       "        console.log(\"Bokeh: injecting script tag for BokehJS library: \", url);\n",
       "        document.getElementsByTagName(\"head\")[0].appendChild(s);\n",
       "      }\n",
       "    };var element = document.getElementById(\"21f7ee45-fc31-468c-ad49-98fd9d9d1063\");\n",
       "    if (element == null) {\n",
       "      console.log(\"Bokeh: ERROR: autoload.js configured with elementid '21f7ee45-fc31-468c-ad49-98fd9d9d1063' but no matching script tag was found. \")\n",
       "      return false;\n",
       "    }\n",
       "  \n",
       "    var js_urls = [];\n",
       "  \n",
       "    var inline_js = [\n",
       "      function(Bokeh) {\n",
       "        Bokeh.$(function() {\n",
       "            var docs_json = {\"afa3248e-03c3-4694-a2b6-d135db0e740a\":{\"roots\":{\"references\":[{\"attributes\":{\"formatter\":{\"id\":\"d3b7f2ab-6266-42a5-9959-dff47924ab1f\",\"type\":\"BasicTickFormatter\"},\"plot\":{\"id\":\"315aee89-3976-4d31-a83b-6847a427b4d9\",\"subtype\":\"Figure\",\"type\":\"Plot\"},\"ticker\":{\"id\":\"8cf9e40e-9418-42f4-85a7-1c565063afa1\",\"type\":\"BasicTicker\"}},\"id\":\"7d83c51d-8700-44db-938a-b19f0232d01c\",\"type\":\"LinearAxis\"},{\"attributes\":{\"data_source\":{\"id\":\"b7b0c2fe-f638-4714-bc09-016e9962a4dd\",\"type\":\"GeoJSONDataSource\"},\"glyph\":{\"id\":\"da363687-48c8-4d64-af57-b2a7c9b81a27\",\"type\":\"Circle\"},\"hover_glyph\":null,\"nonselection_glyph\":{\"id\":\"a94ea170-8034-4224-8a6b-600ec207cb71\",\"type\":\"Circle\"},\"selection_glyph\":null},\"id\":\"9896540b-c821-4a5c-a352-b4dbfc96f20a\",\"type\":\"GlyphRenderer\"},{\"attributes\":{\"plot\":null,\"text\":null},\"id\":\"0fb996f2-a726-4c17-ae90-873725db1a3d\",\"type\":\"Title\"},{\"attributes\":{\"plot\":{\"id\":\"315aee89-3976-4d31-a83b-6847a427b4d9\",\"subtype\":\"Figure\",\"type\":\"Plot\"}},\"id\":\"a2aa703a-3cce-4e01-b71f-8f091dc3ac34\",\"type\":\"PanTool\"},{\"attributes\":{\"plot\":{\"id\":\"315aee89-3976-4d31-a83b-6847a427b4d9\",\"subtype\":\"Figure\",\"type\":\"Plot\"},\"ticker\":{\"id\":\"062a559c-797f-4eb8-860b-42cbcdac9a1b\",\"type\":\"BasicTicker\"}},\"id\":\"ee359b94-d1d9-4ad1-8716-5acb9b4f0c22\",\"type\":\"Grid\"},{\"attributes\":{},\"id\":\"8f2558fc-c484-4e36-9ed4-c98b955628ca\",\"type\":\"ToolEvents\"},{\"attributes\":{\"fill_alpha\":{\"value\":0.1},\"fill_color\":{\"value\":\"#1f77b4\"},\"line_alpha\":{\"value\":0.1},\"line_color\":{\"value\":\"#1f77b4\"},\"x\":{\"field\":\"x\"},\"y\":{\"field\":\"y\"}},\"id\":\"a94ea170-8034-4224-8a6b-600ec207cb71\",\"type\":\"Circle\"},{\"attributes\":{\"below\":[{\"id\":\"900cdb18-6036-4b2f-b7b5-34b8c2c16ad4\",\"type\":\"LinearAxis\"}],\"left\":[{\"id\":\"7d83c51d-8700-44db-938a-b19f0232d01c\",\"type\":\"LinearAxis\"}],\"plot_height\":200,\"plot_width\":300,\"renderers\":[{\"id\":\"900cdb18-6036-4b2f-b7b5-34b8c2c16ad4\",\"type\":\"LinearAxis\"},{\"id\":\"ee359b94-d1d9-4ad1-8716-5acb9b4f0c22\",\"type\":\"Grid\"},{\"id\":\"7d83c51d-8700-44db-938a-b19f0232d01c\",\"type\":\"LinearAxis\"},{\"id\":\"1dfa6bdf-a189-4027-90c4-f9f1d8b4c6ac\",\"type\":\"Grid\"},{\"id\":\"0204b9a4-262e-4143-91b1-8ca12e662984\",\"type\":\"BoxAnnotation\"},{\"id\":\"9896540b-c821-4a5c-a352-b4dbfc96f20a\",\"type\":\"GlyphRenderer\"}],\"title\":{\"id\":\"0fb996f2-a726-4c17-ae90-873725db1a3d\",\"type\":\"Title\"},\"tool_events\":{\"id\":\"8f2558fc-c484-4e36-9ed4-c98b955628ca\",\"type\":\"ToolEvents\"},\"toolbar\":{\"id\":\"955081c7-52fc-40e4-b72d-c976d150276e\",\"type\":\"Toolbar\"},\"x_range\":{\"id\":\"47d4878a-d577-478b-b494-fadc0cfd2b97\",\"type\":\"DataRange1d\"},\"y_range\":{\"id\":\"356873ef-fb00-4e91-b60d-cd99e8635012\",\"type\":\"DataRange1d\"}},\"id\":\"315aee89-3976-4d31-a83b-6847a427b4d9\",\"subtype\":\"Figure\",\"type\":\"Plot\"},{\"attributes\":{\"callback\":null,\"geojson\":\"{\\\"features\\\": [{\\\"properties\\\": {\\\"IsPimsManaged\\\": \\\"True\\\", \\\"Postcode\\\": \\\"SN15 1JW\\\", \\\"Email\\\": \\\"england.contactus@nhs.net\\\", \\\"OrganisationStatus\\\": \\\"Visible\\\", \\\"Address2\\\": \\\"Bewley House\\\", \\\"Phone\\\": \\\"0113 8251 500\\\", \\\"Website\\\": \\\"http://www.england.nhs.uk/south/south/bgsw-at/\\\", \\\"Address3\\\": \\\"Marshfield Road\\\", \\\"Address1\\\": \\\"1st Floor\\\", \\\"OrganisationName\\\": \\\"Bath, Gloucestershire, Swindon And Wiltshire Area Team\\\", \\\"City\\\": \\\"Chippenham\\\", \\\"County\\\": \\\"Wiltshire\\\", \\\"OrganisationType\\\": \\\"Area Team\\\", \\\"OrganisationCode\\\": \\\"Q64\\\", \\\"SubType\\\": \\\"UNKNOWN\\\"}, \\\"geometry\\\": {\\\"coordinates\\\": [-2.1208465099334717, 51.4613151550293], \\\"type\\\": \\\"Point\\\"}, \\\"id\\\": \\\"463098\\\", \\\"type\\\": \\\"Feature\\\"}, {\\\"properties\\\": {\\\"IsPimsManaged\\\": \\\"True\\\", \\\"Postcode\\\": \\\"BS1 3NX\\\", \\\"Email\\\": \\\"england.contactus@nhs.net\\\", \\\"OrganisationStatus\\\": \\\"Visible\\\", \\\"Phone\\\": \\\"0117 976 6600\\\", \\\"Website\\\": \\\"http://www.england.nhs.uk/south/south/bnsssg-at/\\\", \\\"Address3\\\": \\\"Marlborough Street\\\", \\\"Address1\\\": \\\"South Plaza\\\", \\\"OrganisationName\\\": \\\"Bristol, North Somerset, Somerset And South Gloucestershire Area Team\\\", \\\"City\\\": \\\"Bristol\\\", \\\"County\\\": \\\"Somerset\\\", \\\"OrganisationType\\\": \\\"Area Team\\\", \\\"OrganisationCode\\\": \\\"Q65\\\", \\\"SubType\\\": \\\"UNKNOWN\\\"}, \\\"geometry\\\": {\\\"coordinates\\\": [-2.5929524898529053, 51.459877014160156], \\\"type\\\": \\\"Point\\\"}, \\\"id\\\": \\\"463099\\\", \\\"type\\\": \\\"Feature\\\"}, {\\\"properties\\\": {\\\"IsPimsManaged\\\": \\\"True\\\", \\\"Postcode\\\": \\\"PL12 6LE\\\", \\\"Email\\\": \\\"england.contactus@nhs.net\\\", \\\"OrganisationStatus\\\": \\\"Visible\\\", \\\"Address2\\\": \\\"Kingsmill Road\\\", \\\"Phone\\\": \\\"01752 679250\\\", \\\"Website\\\": \\\"http://www.england.nhs.uk/south/south/dcis-at/\\\", \\\"Address3\\\": \\\"Tamar View Industrial Estate\\\", \\\"Address1\\\": \\\"Peninsula House\\\", \\\"OrganisationName\\\": \\\"Devon, Cornwall And Isles Of Scilly Area Team\\\", \\\"City\\\": \\\"Cornwall\\\", \\\"County\\\": \\\"Cornwall\\\", \\\"OrganisationType\\\": \\\"Area Team\\\", \\\"OrganisationCode\\\": \\\"Q66\\\", \\\"SubType\\\": \\\"UNKNOWN\\\"}, \\\"geometry\\\": {\\\"coordinates\\\": [-4.232546806335449, 50.42112731933594], \\\"type\\\": \\\"Point\\\"}, \\\"id\\\": \\\"463100\\\", \\\"type\\\": \\\"Feature\\\"}, {\\\"properties\\\": {\\\"IsPimsManaged\\\": \\\"True\\\", \\\"Postcode\\\": \\\"TN9 1RE\\\", \\\"Email\\\": \\\"england.kentandmedwaybusinessoffice@nhs.net\\\", \\\"OrganisationStatus\\\": \\\"Visible\\\", \\\"Address2\\\": \\\"Medway Wharf Road\\\", \\\"Phone\\\": \\\"01732 375200\\\", \\\"Website\\\": \\\"http://www.england.nhs.uk/south/south/km-at/\\\", \\\"Address1\\\": \\\"Wharf House\\\", \\\"OrganisationName\\\": \\\"Kent And Medway Area Team\\\", \\\"City\\\": \\\"Tonbridge\\\", \\\"County\\\": \\\"Kent\\\", \\\"OrganisationType\\\": \\\"Area Team\\\", \\\"OrganisationCode\\\": \\\"Q67\\\", \\\"SubType\\\": \\\"UNKNOWN\\\"}, \\\"geometry\\\": {\\\"coordinates\\\": [0.27698493003845215, 51.193748474121094], \\\"type\\\": \\\"Point\\\"}, \\\"id\\\": \\\"463101\\\", \\\"type\\\": \\\"Feature\\\"}, {\\\"properties\\\": {\\\"IsPimsManaged\\\": \\\"True\\\", \\\"Postcode\\\": \\\"RH6 7DE\\\", \\\"Email\\\": \\\"england.surreyandsussex-businessoffice@nhs.net\\\", \\\"OrganisationStatus\\\": \\\"Visible\\\", \\\"Address2\\\": \\\"18-20 Massetts Road\\\", \\\"Phone\\\": \\\"01293 778899\\\", \\\"Website\\\": \\\"http://www.england.nhs.uk/south/south/ss-at/\\\", \\\"Address1\\\": \\\"York House\\\", \\\"OrganisationName\\\": \\\"Surrey And Sussex Area Team\\\", \\\"City\\\": \\\"Horley\\\", \\\"County\\\": \\\"Surrey\\\", \\\"OrganisationType\\\": \\\"Area Team\\\", \\\"OrganisationCode\\\": \\\"Q68\\\", \\\"SubType\\\": \\\"UNKNOWN\\\"}, \\\"geometry\\\": {\\\"coordinates\\\": [-0.1647440642118454, 51.170936584472656], \\\"type\\\": \\\"Point\\\"}, \\\"id\\\": \\\"463102\\\", \\\"type\\\": \\\"Feature\\\"}], \\\"type\\\": \\\"FeatureCollection\\\"}\"},\"id\":\"b7b0c2fe-f638-4714-bc09-016e9962a4dd\",\"type\":\"GeoJSONDataSource\"},{\"attributes\":{\"fill_alpha\":{\"value\":0.9},\"fill_color\":{\"value\":\"#1f77b4\"},\"line_alpha\":{\"value\":0.9},\"line_color\":{\"value\":\"#1f77b4\"},\"x\":{\"field\":\"x\"},\"y\":{\"field\":\"y\"}},\"id\":\"da363687-48c8-4d64-af57-b2a7c9b81a27\",\"type\":\"Circle\"},{\"attributes\":{\"active_drag\":\"auto\",\"active_scroll\":\"auto\",\"active_tap\":\"auto\",\"tools\":[{\"id\":\"a2aa703a-3cce-4e01-b71f-8f091dc3ac34\",\"type\":\"PanTool\"},{\"id\":\"83270805-820b-4041-9693-a823ecb5d5a0\",\"type\":\"WheelZoomTool\"},{\"id\":\"8fda548f-abfe-4cf5-96a6-ff059258d5dd\",\"type\":\"BoxZoomTool\"},{\"id\":\"afe221dd-b124-44a3-953d-4364eceabfab\",\"type\":\"SaveTool\"},{\"id\":\"7088778f-ca99-4c96-9afe-bf8298b7b116\",\"type\":\"ResetTool\"},{\"id\":\"0f822450-388f-47f1-9ed0-48d9bfc19af3\",\"type\":\"HelpTool\"}]},\"id\":\"955081c7-52fc-40e4-b72d-c976d150276e\",\"type\":\"Toolbar\"},{\"attributes\":{\"callback\":null},\"id\":\"47d4878a-d577-478b-b494-fadc0cfd2b97\",\"type\":\"DataRange1d\"},{\"attributes\":{\"plot\":{\"id\":\"315aee89-3976-4d31-a83b-6847a427b4d9\",\"subtype\":\"Figure\",\"type\":\"Plot\"}},\"id\":\"83270805-820b-4041-9693-a823ecb5d5a0\",\"type\":\"WheelZoomTool\"},{\"attributes\":{\"plot\":{\"id\":\"315aee89-3976-4d31-a83b-6847a427b4d9\",\"subtype\":\"Figure\",\"type\":\"Plot\"}},\"id\":\"afe221dd-b124-44a3-953d-4364eceabfab\",\"type\":\"SaveTool\"},{\"attributes\":{\"plot\":{\"id\":\"315aee89-3976-4d31-a83b-6847a427b4d9\",\"subtype\":\"Figure\",\"type\":\"Plot\"}},\"id\":\"7088778f-ca99-4c96-9afe-bf8298b7b116\",\"type\":\"ResetTool\"},{\"attributes\":{\"callback\":null},\"id\":\"356873ef-fb00-4e91-b60d-cd99e8635012\",\"type\":\"DataRange1d\"},{\"attributes\":{\"formatter\":{\"id\":\"36959699-11bb-42b2-8967-d7fc8f74d669\",\"type\":\"BasicTickFormatter\"},\"plot\":{\"id\":\"315aee89-3976-4d31-a83b-6847a427b4d9\",\"subtype\":\"Figure\",\"type\":\"Plot\"},\"ticker\":{\"id\":\"062a559c-797f-4eb8-860b-42cbcdac9a1b\",\"type\":\"BasicTicker\"}},\"id\":\"900cdb18-6036-4b2f-b7b5-34b8c2c16ad4\",\"type\":\"LinearAxis\"},{\"attributes\":{},\"id\":\"d3b7f2ab-6266-42a5-9959-dff47924ab1f\",\"type\":\"BasicTickFormatter\"},{\"attributes\":{\"plot\":{\"id\":\"315aee89-3976-4d31-a83b-6847a427b4d9\",\"subtype\":\"Figure\",\"type\":\"Plot\"}},\"id\":\"0f822450-388f-47f1-9ed0-48d9bfc19af3\",\"type\":\"HelpTool\"},{\"attributes\":{},\"id\":\"8cf9e40e-9418-42f4-85a7-1c565063afa1\",\"type\":\"BasicTicker\"},{\"attributes\":{\"overlay\":{\"id\":\"0204b9a4-262e-4143-91b1-8ca12e662984\",\"type\":\"BoxAnnotation\"},\"plot\":{\"id\":\"315aee89-3976-4d31-a83b-6847a427b4d9\",\"subtype\":\"Figure\",\"type\":\"Plot\"}},\"id\":\"8fda548f-abfe-4cf5-96a6-ff059258d5dd\",\"type\":\"BoxZoomTool\"},{\"attributes\":{},\"id\":\"36959699-11bb-42b2-8967-d7fc8f74d669\",\"type\":\"BasicTickFormatter\"},{\"attributes\":{},\"id\":\"062a559c-797f-4eb8-860b-42cbcdac9a1b\",\"type\":\"BasicTicker\"},{\"attributes\":{\"dimension\":1,\"plot\":{\"id\":\"315aee89-3976-4d31-a83b-6847a427b4d9\",\"subtype\":\"Figure\",\"type\":\"Plot\"},\"ticker\":{\"id\":\"8cf9e40e-9418-42f4-85a7-1c565063afa1\",\"type\":\"BasicTicker\"}},\"id\":\"1dfa6bdf-a189-4027-90c4-f9f1d8b4c6ac\",\"type\":\"Grid\"},{\"attributes\":{\"bottom_units\":\"screen\",\"fill_alpha\":{\"value\":0.5},\"fill_color\":{\"value\":\"lightgrey\"},\"left_units\":\"screen\",\"level\":\"overlay\",\"line_alpha\":{\"value\":1.0},\"line_color\":{\"value\":\"black\"},\"line_dash\":[4,4],\"line_width\":{\"value\":2},\"plot\":null,\"render_mode\":\"css\",\"right_units\":\"screen\",\"top_units\":\"screen\"},\"id\":\"0204b9a4-262e-4143-91b1-8ca12e662984\",\"type\":\"BoxAnnotation\"}],\"root_ids\":[\"315aee89-3976-4d31-a83b-6847a427b4d9\"]},\"title\":\"Bokeh Application\",\"version\":\"0.12.2\"}};\n",
       "            var render_items = [{\"docid\":\"afa3248e-03c3-4694-a2b6-d135db0e740a\",\"elementid\":\"21f7ee45-fc31-468c-ad49-98fd9d9d1063\",\"modelid\":\"315aee89-3976-4d31-a83b-6847a427b4d9\"}];\n",
       "            \n",
       "            Bokeh.embed.embed_items(docs_json, render_items);\n",
       "        });\n",
       "      },\n",
       "      function(Bokeh) {\n",
       "      }\n",
       "    ];\n",
       "  \n",
       "    function run_inline_js() {\n",
       "      \n",
       "      if ((window.Bokeh !== undefined) || (force === \"1\")) {\n",
       "        for (var i = 0; i < inline_js.length; i++) {\n",
       "          inline_js[i](window.Bokeh);\n",
       "        }if (force === \"1\") {\n",
       "          display_loaded();\n",
       "        }} else if (Date.now() < window._bokeh_timeout) {\n",
       "        setTimeout(run_inline_js, 100);\n",
       "      } else if (!window._bokeh_failed_load) {\n",
       "        console.log(\"Bokeh: BokehJS failed to load within specified timeout.\");\n",
       "        window._bokeh_failed_load = true;\n",
       "      } else if (!force) {\n",
       "        var cell = $(\"#21f7ee45-fc31-468c-ad49-98fd9d9d1063\").parents('.cell').data().cell;\n",
       "        cell.output_area.append_execute_result(NB_LOAD_WARNING)\n",
       "      }\n",
       "  \n",
       "    }\n",
       "  \n",
       "    if (window._bokeh_is_loading === 0) {\n",
       "      console.log(\"Bokeh: BokehJS loaded, going straight to plotting\");\n",
       "      run_inline_js();\n",
       "    } else {\n",
       "      load_libs(js_urls, function() {\n",
       "        console.log(\"Bokeh: BokehJS plotting callback run at\", now());\n",
       "        run_inline_js();\n",
       "      });\n",
       "    }\n",
       "  }(this));\n",
       "</script>"
      ]
     },
     "metadata": {},
     "output_type": "display_data"
    }
   ],
   "source": [
    "# Cool we have just 5\n",
    "p = bp.figure(plot_width=300, plot_height=200)\n",
    "p.circle(x='x', y='y', alpha=0.9, source=geo_source)\n",
    "bp.show(p)"
   ]
  },
  {
   "cell_type": "markdown",
   "metadata": {},
   "source": [
    "### Main Bike Data"
   ]
  },
  {
   "cell_type": "code",
   "execution_count": 34,
   "metadata": {
    "collapsed": true
   },
   "outputs": [],
   "source": [
    "plot_h = 625\n",
    "plot_w = 1000"
   ]
  },
  {
   "cell_type": "code",
   "execution_count": 35,
   "metadata": {
    "collapsed": false
   },
   "outputs": [
    {
     "name": "stdout",
     "output_type": "stream",
     "text": [
      "(8686359, 4)\n"
     ]
    },
    {
     "data": {
      "text/html": [
       "<div>\n",
       "<table border=\"1\" class=\"dataframe\">\n",
       "  <thead>\n",
       "    <tr style=\"text-align: right;\">\n",
       "      <th></th>\n",
       "      <th>lat</th>\n",
       "      <th>lon</th>\n",
       "      <th>c</th>\n",
       "      <th>flag</th>\n",
       "    </tr>\n",
       "  </thead>\n",
       "  <tbody>\n",
       "    <tr>\n",
       "      <th>0</th>\n",
       "      <td>51.490397</td>\n",
       "      <td>-0.122587</td>\n",
       "      <td>3600</td>\n",
       "      <td>NaN</td>\n",
       "    </tr>\n",
       "    <tr>\n",
       "      <th>1</th>\n",
       "      <td>51.491020</td>\n",
       "      <td>-0.122305</td>\n",
       "      <td>3600</td>\n",
       "      <td>NaN</td>\n",
       "    </tr>\n",
       "    <tr>\n",
       "      <th>2</th>\n",
       "      <td>51.491462</td>\n",
       "      <td>-0.121699</td>\n",
       "      <td>3600</td>\n",
       "      <td>NaN</td>\n",
       "    </tr>\n",
       "    <tr>\n",
       "      <th>3</th>\n",
       "      <td>51.492347</td>\n",
       "      <td>-0.121343</td>\n",
       "      <td>3600</td>\n",
       "      <td>NaN</td>\n",
       "    </tr>\n",
       "    <tr>\n",
       "      <th>4</th>\n",
       "      <td>51.492266</td>\n",
       "      <td>-0.120971</td>\n",
       "      <td>3600</td>\n",
       "      <td>NaN</td>\n",
       "    </tr>\n",
       "  </tbody>\n",
       "</table>\n",
       "</div>"
      ],
      "text/plain": [
       "         lat       lon     c  flag\n",
       "0  51.490397 -0.122587  3600   NaN\n",
       "1  51.491020 -0.122305  3600   NaN\n",
       "2  51.491462 -0.121699  3600   NaN\n",
       "3  51.492347 -0.121343  3600   NaN\n",
       "4  51.492266 -0.120971  3600   NaN"
      ]
     },
     "execution_count": 35,
     "metadata": {},
     "output_type": "execute_result"
    }
   ],
   "source": [
    "routes = pd.read_csv('full_16m_routes.csv')\n",
    "\n",
    "df = routes.loc[:,('lat', 'lon', 'c', 'flag')]\n",
    "# Square count to get higher diff\n",
    "df['c'] = np.square(df.c)\n",
    "\n",
    "print(df.shape)\n",
    "df.head()"
   ]
  },
  {
   "cell_type": "code",
   "execution_count": 36,
   "metadata": {
    "collapsed": false
   },
   "outputs": [
    {
     "data": {
      "text/plain": [
       "(1, 82664464)"
      ]
     },
     "execution_count": 36,
     "metadata": {},
     "output_type": "execute_result"
    }
   ],
   "source": [
    "df.c.min(), df.c.max()"
   ]
  },
  {
   "cell_type": "code",
   "execution_count": 37,
   "metadata": {
    "collapsed": false
   },
   "outputs": [
    {
     "name": "stdout",
     "output_type": "stream",
     "text": [
      "(-0.23794699999999999, 0.0079649999999999999)\n",
      "(51.449814000000003, 51.553406000000003)\n"
     ]
    }
   ],
   "source": [
    "x_range = (df.lon.min(), df.lon.max())\n",
    "y_range = (df.lat.min(), df.lat.max())\n",
    "\n",
    "print(x_range)\n",
    "print(y_range)"
   ]
  },
  {
   "cell_type": "code",
   "execution_count": 38,
   "metadata": {
    "collapsed": false
   },
   "outputs": [],
   "source": [
    "# We need to clip the shapefile:\n",
    "#-clipdst [xmin ymin xmax ymax]\n",
    "#ogr2ogr.main([\"\", \"-f\", \"GeoJSON\", \"-clipdst\",\n",
    "#              \"-0.237947\", \"51.449814\", \"0.007965\", \"51.553407\",\n",
    "#              \"Basemaps/buildings_city.geojson\", \n",
    "#              \"Basemaps/TQTL_LON.shp\", \"-t_srs\", \"EPSG:4326\"])\n",
    "\n",
    "# Try using matplotlib later:\n",
    "# https://anaconda.org/jbednar/census-hv-dask/notebook\n",
    "# Then no need to convert"
   ]
  },
  {
   "cell_type": "code",
   "execution_count": 39,
   "metadata": {
    "collapsed": true
   },
   "outputs": [],
   "source": [
    "# Load buildings but truncate heavily to 100 polygons (at first)\n",
    "with open('Basemaps/buildings_city.geojson', 'r') as f:\n",
    "    geojson_buildings = f.read()"
   ]
  },
  {
   "cell_type": "code",
   "execution_count": 40,
   "metadata": {
    "collapsed": false
   },
   "outputs": [
    {
     "name": "stdout",
     "output_type": "stream",
     "text": [
      "15391\n"
     ]
    }
   ],
   "source": [
    "geo_buildings = json.loads(geojson_buildings)\n",
    "# Clipped buildings is smaller and can be plotted\n",
    "print(len(geo_buildings['features']))  #15,391\n",
    "#geo_buildings['features'] = geo_buildings['features'][:100]  # clip for test"
   ]
  },
  {
   "cell_type": "code",
   "execution_count": 41,
   "metadata": {
    "collapsed": false
   },
   "outputs": [
    {
     "data": {
      "text/plain": [
       "{'geometry': {'coordinates': [[[-0.178741503922634, 51.45247303835862],\n",
       "    [-0.178892696351749, 51.452368770711665],\n",
       "    [-0.179076684540893, 51.45218062216903],\n",
       "    [-0.178810173993229, 51.45207888407964],\n",
       "    [-0.178960235245966, 51.451923876661006],\n",
       "    [-0.179198803720819, 51.4520147683327],\n",
       "    [-0.17939614283654, 51.45181464729954],\n",
       "    [-0.179652394271227, 51.45190829413508],\n",
       "    [-0.181565113005794, 51.449814],\n",
       "    [-0.181897849628305, 51.449814],\n",
       "    [-0.179113833280065, 51.4526837945696],\n",
       "    [-0.178741503922634, 51.45247303835862]]],\n",
       "  'type': 'Polygon'},\n",
       " 'properties': {'ID': 91530},\n",
       " 'type': 'Feature'}"
      ]
     },
     "execution_count": 41,
     "metadata": {},
     "output_type": "execute_result"
    }
   ],
   "source": [
    "# Check out what it looks like\n",
    "geo_buildings['features'][0]"
   ]
  },
  {
   "cell_type": "code",
   "execution_count": 42,
   "metadata": {
    "collapsed": false
   },
   "outputs": [],
   "source": [
    "# Load geojson\n",
    "json_buildings = GeoJSONDataSource(geojson=json.dumps(geo_buildings))"
   ]
  },
  {
   "cell_type": "code",
   "execution_count": 43,
   "metadata": {
    "collapsed": false
   },
   "outputs": [],
   "source": [
    "def create_image(x_range=x_range, y_range=y_range, w=plot_w, h=plot_h):\n",
    "    cvs = ds.Canvas(x_range=x_range, y_range=y_range, plot_height=h, plot_width=w)\n",
    "    agg = cvs.line(df, 'lon', 'lat', agg=ds.count('c'))\n",
    "    return tf.shade(agg, cmap=['#2C3539','#87ceff'])"
   ]
  },
  {
   "cell_type": "code",
   "execution_count": 44,
   "metadata": {
    "collapsed": false
   },
   "outputs": [],
   "source": [
    "#create_image()"
   ]
  },
  {
   "cell_type": "code",
   "execution_count": 45,
   "metadata": {
    "collapsed": false
   },
   "outputs": [],
   "source": [
    "def base_plot(tools='pan, wheel_zoom, reset, save'):\n",
    "    p = bp.figure(tools=tools, plot_width=plot_w, plot_height=plot_h,\n",
    "        x_range=x_range, y_range=y_range, outline_line_color=None,\n",
    "        min_border=0, min_border_left=0, min_border_right=0,\n",
    "        min_border_top=0, min_border_bottom=0)  \n",
    "    p.patches(xs='xs', ys='ys', fill_color='#0C090A', fill_alpha=0.2, line_alpha=0, source=json_buildings)\n",
    "    p.background_fill_color = '#2C3539'\n",
    "    p.xaxis.visible = False\n",
    "    p.yaxis.visible = False\n",
    "    p.xgrid.grid_line_color = None\n",
    "    p.ygrid.grid_line_color = None\n",
    "    return p"
   ]
  },
  {
   "cell_type": "code",
   "execution_count": 46,
   "metadata": {
    "collapsed": false
   },
   "outputs": [],
   "source": [
    "# Hard to figure out which colours look good ...\n",
    "#bp.show(base_plot())"
   ]
  },
  {
   "cell_type": "code",
   "execution_count": 48,
   "metadata": {
    "collapsed": false,
    "scrolled": false
   },
   "outputs": [],
   "source": [
    "#p = base_plot()\n",
    "#InteractiveImage(p, create_image)\n",
    "# See \"python_daily.png\""
   ]
  },
  {
   "cell_type": "code",
   "execution_count": null,
   "metadata": {
    "collapsed": true
   },
   "outputs": [],
   "source": []
  }
 ],
 "metadata": {
  "anaconda-cloud": {},
  "kernelspec": {
   "display_name": "Python [conda env:py35]",
   "language": "python",
   "name": "conda-env-py35-py"
  },
  "language_info": {
   "codemirror_mode": {
    "name": "ipython",
    "version": 3
   },
   "file_extension": ".py",
   "mimetype": "text/x-python",
   "name": "python",
   "nbconvert_exporter": "python",
   "pygments_lexer": "ipython3",
   "version": "3.5.2"
  }
 },
 "nbformat": 4,
 "nbformat_minor": 1
}
