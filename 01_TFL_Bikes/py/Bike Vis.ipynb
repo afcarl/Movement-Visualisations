{
 "cells": [
  {
   "cell_type": "code",
   "execution_count": 1,
   "metadata": {
    "collapsed": false
   },
   "outputs": [
    {
     "name": "stdout",
     "output_type": "stream",
     "text": [
      "(563606, 9)\n"
     ]
    },
    {
     "data": {
      "text/html": [
       "<div>\n",
       "<table border=\"1\" class=\"dataframe\">\n",
       "  <thead>\n",
       "    <tr style=\"text-align: right;\">\n",
       "      <th></th>\n",
       "      <th>Rental Id</th>\n",
       "      <th>Duration</th>\n",
       "      <th>Bike Id</th>\n",
       "      <th>End Date</th>\n",
       "      <th>EndStation Id</th>\n",
       "      <th>EndStation Name</th>\n",
       "      <th>Start Date</th>\n",
       "      <th>StartStation Id</th>\n",
       "      <th>StartStation Name</th>\n",
       "    </tr>\n",
       "  </thead>\n",
       "  <tbody>\n",
       "    <tr>\n",
       "      <th>0</th>\n",
       "      <td>50754225</td>\n",
       "      <td>240</td>\n",
       "      <td>11834</td>\n",
       "      <td>10/01/2016 00:04</td>\n",
       "      <td>383.0</td>\n",
       "      <td>Frith Street, Soho</td>\n",
       "      <td>10/01/2016 00:00</td>\n",
       "      <td>18</td>\n",
       "      <td>Drury Lane, Covent Garden</td>\n",
       "    </tr>\n",
       "    <tr>\n",
       "      <th>1</th>\n",
       "      <td>50754226</td>\n",
       "      <td>300</td>\n",
       "      <td>9648</td>\n",
       "      <td>10/01/2016 00:05</td>\n",
       "      <td>719.0</td>\n",
       "      <td>Victoria Park Road, Hackney Central</td>\n",
       "      <td>10/01/2016 00:00</td>\n",
       "      <td>479</td>\n",
       "      <td>Pott Street, Bethnal Green</td>\n",
       "    </tr>\n",
       "    <tr>\n",
       "      <th>2</th>\n",
       "      <td>50754227</td>\n",
       "      <td>1200</td>\n",
       "      <td>10689</td>\n",
       "      <td>10/01/2016 00:20</td>\n",
       "      <td>272.0</td>\n",
       "      <td>Baylis Road, Waterloo</td>\n",
       "      <td>10/01/2016 00:00</td>\n",
       "      <td>425</td>\n",
       "      <td>Harrington Square 2, Camden Town</td>\n",
       "    </tr>\n",
       "    <tr>\n",
       "      <th>3</th>\n",
       "      <td>50754228</td>\n",
       "      <td>780</td>\n",
       "      <td>8593</td>\n",
       "      <td>10/01/2016 00:14</td>\n",
       "      <td>471.0</td>\n",
       "      <td>Hewison Street, Old Ford</td>\n",
       "      <td>10/01/2016 00:01</td>\n",
       "      <td>487</td>\n",
       "      <td>Canton Street, Poplar</td>\n",
       "    </tr>\n",
       "    <tr>\n",
       "      <th>4</th>\n",
       "      <td>50754229</td>\n",
       "      <td>600</td>\n",
       "      <td>8619</td>\n",
       "      <td>10/01/2016 00:11</td>\n",
       "      <td>399.0</td>\n",
       "      <td>Brick Lane Market, Shoreditch</td>\n",
       "      <td>10/01/2016 00:01</td>\n",
       "      <td>501</td>\n",
       "      <td>Cephas Street, Bethnal Green</td>\n",
       "    </tr>\n",
       "  </tbody>\n",
       "</table>\n",
       "</div>"
      ],
      "text/plain": [
       "   Rental Id  Duration  Bike Id          End Date  EndStation Id  \\\n",
       "0   50754225       240    11834  10/01/2016 00:04          383.0   \n",
       "1   50754226       300     9648  10/01/2016 00:05          719.0   \n",
       "2   50754227      1200    10689  10/01/2016 00:20          272.0   \n",
       "3   50754228       780     8593  10/01/2016 00:14          471.0   \n",
       "4   50754229       600     8619  10/01/2016 00:11          399.0   \n",
       "\n",
       "                       EndStation Name        Start Date  StartStation Id  \\\n",
       "0                   Frith Street, Soho  10/01/2016 00:00               18   \n",
       "1  Victoria Park Road, Hackney Central  10/01/2016 00:00              479   \n",
       "2                Baylis Road, Waterloo  10/01/2016 00:00              425   \n",
       "3             Hewison Street, Old Ford  10/01/2016 00:01              487   \n",
       "4        Brick Lane Market, Shoreditch  10/01/2016 00:01              501   \n",
       "\n",
       "                  StartStation Name  \n",
       "0         Drury Lane, Covent Garden  \n",
       "1        Pott Street, Bethnal Green  \n",
       "2  Harrington Square 2, Camden Town  \n",
       "3             Canton Street, Poplar  \n",
       "4      Cephas Street, Bethnal Green  "
      ]
     },
     "execution_count": 1,
     "metadata": {},
     "output_type": "execute_result"
    }
   ],
   "source": [
    "import pandas as pd\n",
    "import urllib\n",
    "\n",
    "website = 'http://cycling.data.tfl.gov.uk/usage-stats/'\n",
    "csv_list = [\n",
    "    '01aJourneyDataExtract10Jan16-23Jan16.csv', \n",
    "    '01b Journey Data Extract 24Jan16-06Feb16.csv']\n",
    "\n",
    "url_list = [website + urllib.parse.quote(ul) for ul in csv_list]\n",
    "dfs = (pd.read_csv(url) for url in url_list)\n",
    "dfs_data = pd.concat(dfs, ignore_index=True)\n",
    "\n",
    "dfs_data = dfs_data[dfs_data['EndStation Id'] != dfs_data['StartStation Id']]\n",
    "\n",
    "print(dfs_data.shape)\n",
    "dfs_data.head()"
   ]
  },
  {
   "cell_type": "code",
   "execution_count": 2,
   "metadata": {
    "collapsed": false
   },
   "outputs": [
    {
     "data": {
      "image/png": "[encoded data removed]",
      "text/plain": [
       "<matplotlib.figure.Figure at 0x7f9ef2111390>"
      ]
     },
     "metadata": {},
     "output_type": "display_data"
    }
   ],
   "source": [
    "# Visualise missing -> none, charlie maybe your regex missed some IDs?\n",
    "import missingno as msno\n",
    "%matplotlib inline\n",
    "msno.bar(dfs_data)"
   ]
  },
  {
   "cell_type": "code",
   "execution_count": 3,
   "metadata": {
    "collapsed": false
   },
   "outputs": [
    {
     "name": "stdout",
     "output_type": "stream",
     "text": [
      "(771, 4)\n"
     ]
    },
    {
     "data": {
      "text/html": [
       "<div>\n",
       "<table border=\"1\" class=\"dataframe\">\n",
       "  <thead>\n",
       "    <tr style=\"text-align: right;\">\n",
       "      <th></th>\n",
       "      <th>commonName</th>\n",
       "      <th>id</th>\n",
       "      <th>lat</th>\n",
       "      <th>lon</th>\n",
       "    </tr>\n",
       "  </thead>\n",
       "  <tbody>\n",
       "    <tr>\n",
       "      <th>0</th>\n",
       "      <td>River Street , Clerkenwell</td>\n",
       "      <td>1</td>\n",
       "      <td>51.529163</td>\n",
       "      <td>-0.109970</td>\n",
       "    </tr>\n",
       "    <tr>\n",
       "      <th>1</th>\n",
       "      <td>Phillimore Gardens, Kensington</td>\n",
       "      <td>2</td>\n",
       "      <td>51.499606</td>\n",
       "      <td>-0.197574</td>\n",
       "    </tr>\n",
       "    <tr>\n",
       "      <th>2</th>\n",
       "      <td>Christopher Street, Liverpool Street</td>\n",
       "      <td>3</td>\n",
       "      <td>51.521283</td>\n",
       "      <td>-0.084605</td>\n",
       "    </tr>\n",
       "    <tr>\n",
       "      <th>3</th>\n",
       "      <td>St. Chad's Street, King's Cross</td>\n",
       "      <td>4</td>\n",
       "      <td>51.530059</td>\n",
       "      <td>-0.120973</td>\n",
       "    </tr>\n",
       "    <tr>\n",
       "      <th>4</th>\n",
       "      <td>Sedding Street, Sloane Square</td>\n",
       "      <td>5</td>\n",
       "      <td>51.493130</td>\n",
       "      <td>-0.156876</td>\n",
       "    </tr>\n",
       "  </tbody>\n",
       "</table>\n",
       "</div>"
      ],
      "text/plain": [
       "                             commonName  id        lat       lon\n",
       "0            River Street , Clerkenwell   1  51.529163 -0.109970\n",
       "1        Phillimore Gardens, Kensington   2  51.499606 -0.197574\n",
       "2  Christopher Street, Liverpool Street   3  51.521283 -0.084605\n",
       "3       St. Chad's Street, King's Cross   4  51.530059 -0.120973\n",
       "4         Sedding Street, Sloane Square   5  51.493130 -0.156876"
      ]
     },
     "execution_count": 3,
     "metadata": {},
     "output_type": "execute_result"
    }
   ],
   "source": [
    "df_loc_data = pd.read_json(\"https://api.tfl.gov.uk/bikepoint\", orient='values')\n",
    "df_loc_data = df_loc_data[['commonName', 'id', 'lat', 'lon']]\n",
    "df_loc_data['id'] = df_loc_data['id'].apply(lambda x: int(x.split('_')[-1]))\n",
    "\n",
    "print(df_loc_data.shape)\n",
    "df_loc_data.head()"
   ]
  },
  {
   "cell_type": "code",
   "execution_count": 4,
   "metadata": {
    "collapsed": false
   },
   "outputs": [
    {
     "data": {
      "image/png": "[encoded data removed]",
      "text/plain": [
       "<matplotlib.figure.Figure at 0x7f9ee7750668>"
      ]
     },
     "metadata": {},
     "output_type": "display_data"
    }
   ],
   "source": [
    "msno.bar(df_loc_data)"
   ]
  },
  {
   "cell_type": "code",
   "execution_count": 5,
   "metadata": {
    "collapsed": false
   },
   "outputs": [
    {
     "data": {
      "text/html": [
       "<div>\n",
       "<table border=\"1\" class=\"dataframe\">\n",
       "  <thead>\n",
       "    <tr style=\"text-align: right;\">\n",
       "      <th></th>\n",
       "      <th>Rental Id</th>\n",
       "      <th>Duration</th>\n",
       "      <th>Bike Id</th>\n",
       "      <th>End Date</th>\n",
       "      <th>EndStation Id</th>\n",
       "      <th>EndStation Name</th>\n",
       "      <th>Start Date</th>\n",
       "      <th>StartStation Id</th>\n",
       "      <th>StartStation Name</th>\n",
       "      <th>StartStation lat</th>\n",
       "      <th>StartStation lon</th>\n",
       "      <th>EndStation lat</th>\n",
       "      <th>EndStation lon</th>\n",
       "    </tr>\n",
       "  </thead>\n",
       "  <tbody>\n",
       "    <tr>\n",
       "      <th>0</th>\n",
       "      <td>50754225</td>\n",
       "      <td>240</td>\n",
       "      <td>11834</td>\n",
       "      <td>10/01/2016 00:04</td>\n",
       "      <td>383.0</td>\n",
       "      <td>Frith Street, Soho</td>\n",
       "      <td>10/01/2016 00:00</td>\n",
       "      <td>18</td>\n",
       "      <td>Drury Lane, Covent Garden</td>\n",
       "      <td>51.51477</td>\n",
       "      <td>-0.122219</td>\n",
       "      <td>51.513103</td>\n",
       "      <td>-0.131213</td>\n",
       "    </tr>\n",
       "    <tr>\n",
       "      <th>1</th>\n",
       "      <td>51096336</td>\n",
       "      <td>240</td>\n",
       "      <td>3356</td>\n",
       "      <td>25/01/2016 20:56</td>\n",
       "      <td>383.0</td>\n",
       "      <td>Frith Street, Soho</td>\n",
       "      <td>25/01/2016 20:52</td>\n",
       "      <td>18</td>\n",
       "      <td>Drury Lane, Covent Garden</td>\n",
       "      <td>51.51477</td>\n",
       "      <td>-0.122219</td>\n",
       "      <td>51.513103</td>\n",
       "      <td>-0.131213</td>\n",
       "    </tr>\n",
       "  </tbody>\n",
       "</table>\n",
       "</div>"
      ],
      "text/plain": [
       "   Rental Id  Duration  Bike Id          End Date  EndStation Id  \\\n",
       "0   50754225       240    11834  10/01/2016 00:04          383.0   \n",
       "1   51096336       240     3356  25/01/2016 20:56          383.0   \n",
       "\n",
       "      EndStation Name        Start Date  StartStation Id  \\\n",
       "0  Frith Street, Soho  10/01/2016 00:00               18   \n",
       "1  Frith Street, Soho  25/01/2016 20:52               18   \n",
       "\n",
       "           StartStation Name  StartStation lat  StartStation lon  \\\n",
       "0  Drury Lane, Covent Garden          51.51477         -0.122219   \n",
       "1  Drury Lane, Covent Garden          51.51477         -0.122219   \n",
       "\n",
       "   EndStation lat  EndStation lon  \n",
       "0       51.513103       -0.131213  \n",
       "1       51.513103       -0.131213  "
      ]
     },
     "execution_count": 5,
     "metadata": {},
     "output_type": "execute_result"
    }
   ],
   "source": [
    "# Merge start\n",
    "merge_start = dfs_data.merge(right = df_loc_data,\n",
    "                             how = 'inner',\n",
    "                             left_on = 'StartStation Id',\n",
    "                             right_on = 'id')\n",
    "\n",
    "merge_start.drop(labels = [\"id\", \"commonName\"], axis=1, inplace=True)\n",
    "merge_start.rename(columns={'lat': 'StartStation lat', 'lon': 'StartStation lon'},\n",
    "                   inplace=True)\n",
    "# Merge end\n",
    "merge_end = merge_start.merge(right = df_loc_data,\n",
    "                             how = 'inner',\n",
    "                             left_on = 'EndStation Id',\n",
    "                             right_on = 'id')\n",
    "\n",
    "merge_end.drop(labels = [\"id\", \"commonName\"], axis=1, inplace=True)\n",
    "merge_end.rename(columns={'lat': 'EndStation lat', 'lon': 'EndStation lon'},\n",
    "                   inplace=True)\n",
    "\n",
    "merge_end.head(2)"
   ]
  },
  {
   "cell_type": "code",
   "execution_count": 6,
   "metadata": {
    "collapsed": false
   },
   "outputs": [
    {
     "data": {
      "text/plain": [
       "['Rental Id',\n",
       " 'Duration',\n",
       " 'Bike Id',\n",
       " 'End Date',\n",
       " 'EndStation Id',\n",
       " 'EndStation Name',\n",
       " 'Start Date',\n",
       " 'StartStation Id',\n",
       " 'StartStation Name',\n",
       " 'StartStation lat',\n",
       " 'StartStation lon',\n",
       " 'EndStation lat',\n",
       " 'EndStation lon']"
      ]
     },
     "execution_count": 6,
     "metadata": {},
     "output_type": "execute_result"
    }
   ],
   "source": [
    "list(merge_end.columns)"
   ]
  },
  {
   "cell_type": "code",
   "execution_count": 7,
   "metadata": {
    "collapsed": false
   },
   "outputs": [
    {
     "name": "stdout",
     "output_type": "stream",
     "text": [
      "(537672, 6)\n",
      "(121298, 6)\n"
     ]
    },
    {
     "name": "stderr",
     "output_type": "stream",
     "text": [
      "/home/iliauk/.conda/envs/pythree/lib/python3.5/site-packages/pandas/util/decorators.py:91: SettingWithCopyWarning: \n",
      "A value is trying to be set on a copy of a slice from a DataFrame\n",
      "\n",
      "See the caveats in the documentation: http://pandas.pydata.org/pandas-docs/stable/indexing.html#indexing-view-versus-copy\n",
      "  return func(*args, **kwargs)\n"
     ]
    }
   ],
   "source": [
    "unq_locs = merge_end[['StartStation Id',\n",
    "                      'StartStation lat',\n",
    "                      'StartStation lon',\n",
    "                      'EndStation Id',\n",
    "                      'EndStation lat',\n",
    "                      'EndStation lon']]\n",
    "print(unq_locs.shape)\n",
    "unq_locs.drop_duplicates(inplace=True)\n",
    "print(unq_locs.shape)"
   ]
  },
  {
   "cell_type": "code",
   "execution_count": 8,
   "metadata": {
    "collapsed": true
   },
   "outputs": [],
   "source": [
    "# Submit route request to Ubuntu Server running OSRM\n",
    "# Asychronously generate 500 requests at a time"
   ]
  },
  {
   "cell_type": "code",
   "execution_count": 9,
   "metadata": {
    "collapsed": false
   },
   "outputs": [],
   "source": [
    "import aiohttp\n",
    "import asyncio\n",
    "import json\n",
    "concurrent = 500"
   ]
  },
  {
   "cell_type": "code",
   "execution_count": 10,
   "metadata": {
    "collapsed": false
   },
   "outputs": [
    {
     "name": "stdout",
     "output_type": "stream",
     "text": [
      "121298\n"
     ]
    }
   ],
   "source": [
    "def CreateUrl(row):\n",
    "    sid, slat, slon, eid, elon, elat = row\n",
    "    base_url = \"http://osmrouting.uksouth.cloudapp.azure.com/\"\n",
    "    route_url = \"osrm/route/v1/bicycle/{0},{1};{2},{3}\".format(slon, slat, elon, elat)\n",
    "    end_url = \"?alternatives=false&steps=false&geometries=geojson\"\n",
    "    return base_url+route_url+end_url, '%i_%i' % (sid, eid)\n",
    "\n",
    "url_list = unq_locs.apply(func=CreateUrl, axis=1)\n",
    "print(len(url_list))"
   ]
  },
  {
   "cell_type": "code",
   "execution_count": 11,
   "metadata": {
    "collapsed": true
   },
   "outputs": [],
   "source": [
    "def handle_req(data, qid):\n",
    "    r = json.loads(data.decode('utf-8'))\n",
    "    coord = r['routes'][0]['geometry']['coordinates']\n",
    "        \n",
    "    dffrom = pd.DataFrame(coord[:-1], columns=['slon', 'slat'])\n",
    "    dfto = pd.DataFrame(coord[1:], columns=['elon', 'elat'])\n",
    "    df_journey = pd.concat([dffrom, dfto], axis=1)\n",
    "    df_journey['route_id'] = qid\n",
    "\n",
    "    return df_journey\n",
    " \n",
    "def chunked_http_client(num_chunks, s):\n",
    "    # Use semaphore to limit number of requests\n",
    "    semaphore = asyncio.Semaphore(num_chunks)\n",
    "    @asyncio.coroutine\n",
    "    # Return co-routine that will work asynchronously and respect\n",
    "    # locking of semaphore\n",
    "    def http_get(url, qid):\n",
    "        nonlocal semaphore\n",
    "        with (yield from semaphore):\n",
    "            response = yield from s.get(url)\n",
    "            body = yield from response.content.read()\n",
    "            yield from response.wait_for_close()\n",
    "        return body, qid\n",
    "    return http_get\n",
    " \n",
    "def run_experiment(urls, _session):\n",
    "    http_client = chunked_http_client(num_chunks=concurrent, s=_session)\n",
    "    \n",
    "    # http_client returns futures, save all the futures to a list\n",
    "    tasks = [http_client(url, qid) for url, qid in urls]\n",
    "    \n",
    "    dfs_route = []\n",
    "    \n",
    "    # wait for futures to be ready then iterate over them\n",
    "    for future in asyncio.as_completed(tasks):\n",
    "        data, qid = yield from future\n",
    "        try:\n",
    "            out = handle_req(data, qid)\n",
    "            dfs_route.append(out)\n",
    "        except Exception as err:\n",
    "            print(\"Error for {0} - {1}\".format(qid, err))\n",
    "    return dfs_route"
   ]
  },
  {
   "cell_type": "code",
   "execution_count": 12,
   "metadata": {
    "collapsed": false
   },
   "outputs": [
    {
     "name": "stderr",
     "output_type": "stream",
     "text": [
      "Creating a client session outside of coroutine\n",
      "client_session: <aiohttp.client.ClientSession object at 0x7f9ee47cf4e0>\n"
     ]
    }
   ],
   "source": [
    "# Run:\n",
    "with aiohttp.ClientSession() as session:  # We create a persistent connection\n",
    "    loop = asyncio.get_event_loop()\n",
    "    calc_routes = loop.run_until_complete(run_experiment(url_list, session))"
   ]
  },
  {
   "cell_type": "code",
   "execution_count": 52,
   "metadata": {
    "collapsed": true
   },
   "outputs": [],
   "source": [
    "routes_complete = pd.concat(calc_routes, ignore_index=True)"
   ]
  },
  {
   "cell_type": "code",
   "execution_count": 53,
   "metadata": {
    "collapsed": false
   },
   "outputs": [
    {
     "name": "stdout",
     "output_type": "stream",
     "text": [
      "(1302174, 5)\n"
     ]
    },
    {
     "data": {
      "text/html": [
       "<div>\n",
       "<table border=\"1\" class=\"dataframe\">\n",
       "  <thead>\n",
       "    <tr style=\"text-align: right;\">\n",
       "      <th></th>\n",
       "      <th>slon</th>\n",
       "      <th>slat</th>\n",
       "      <th>elon</th>\n",
       "      <th>elat</th>\n",
       "      <th>route_id</th>\n",
       "    </tr>\n",
       "  </thead>\n",
       "  <tbody>\n",
       "    <tr>\n",
       "      <th>0</th>\n",
       "      <td>-0.123701</td>\n",
       "      <td>51.506757</td>\n",
       "      <td>-0.550657</td>\n",
       "      <td>51.264435</td>\n",
       "      <td>354_583</td>\n",
       "    </tr>\n",
       "    <tr>\n",
       "      <th>1</th>\n",
       "      <td>-0.550657</td>\n",
       "      <td>51.264435</td>\n",
       "      <td>-0.704022</td>\n",
       "      <td>51.094319</td>\n",
       "      <td>354_583</td>\n",
       "    </tr>\n",
       "    <tr>\n",
       "      <th>2</th>\n",
       "      <td>-0.704022</td>\n",
       "      <td>51.094319</td>\n",
       "      <td>-0.917865</td>\n",
       "      <td>51.026138</td>\n",
       "      <td>354_583</td>\n",
       "    </tr>\n",
       "    <tr>\n",
       "      <th>3</th>\n",
       "      <td>-0.917865</td>\n",
       "      <td>51.026138</td>\n",
       "      <td>-1.113862</td>\n",
       "      <td>50.807071</td>\n",
       "      <td>354_583</td>\n",
       "    </tr>\n",
       "    <tr>\n",
       "      <th>4</th>\n",
       "      <td>-1.113862</td>\n",
       "      <td>50.807071</td>\n",
       "      <td>-1.043196</td>\n",
       "      <td>50.685613</td>\n",
       "      <td>354_583</td>\n",
       "    </tr>\n",
       "  </tbody>\n",
       "</table>\n",
       "</div>"
      ],
      "text/plain": [
       "       slon       slat      elon       elat route_id\n",
       "0 -0.123701  51.506757 -0.550657  51.264435  354_583\n",
       "1 -0.550657  51.264435 -0.704022  51.094319  354_583\n",
       "2 -0.704022  51.094319 -0.917865  51.026138  354_583\n",
       "3 -0.917865  51.026138 -1.113862  50.807071  354_583\n",
       "4 -1.113862  50.807071 -1.043196  50.685613  354_583"
      ]
     },
     "execution_count": 53,
     "metadata": {},
     "output_type": "execute_result"
    }
   ],
   "source": [
    "print(routes_complete.shape)\n",
    "routes_complete.head()"
   ]
  },
  {
   "cell_type": "code",
   "execution_count": 54,
   "metadata": {
    "collapsed": false
   },
   "outputs": [
    {
     "data": {
      "text/html": [
       "<div>\n",
       "<table border=\"1\" class=\"dataframe\">\n",
       "  <thead>\n",
       "    <tr style=\"text-align: right;\">\n",
       "      <th></th>\n",
       "      <th>route_id</th>\n",
       "    </tr>\n",
       "  </thead>\n",
       "  <tbody>\n",
       "    <tr>\n",
       "      <th>0</th>\n",
       "      <td>18_383</td>\n",
       "    </tr>\n",
       "    <tr>\n",
       "      <th>1</th>\n",
       "      <td>18_383</td>\n",
       "    </tr>\n",
       "    <tr>\n",
       "      <th>2</th>\n",
       "      <td>18_383</td>\n",
       "    </tr>\n",
       "    <tr>\n",
       "      <th>3</th>\n",
       "      <td>425_383</td>\n",
       "    </tr>\n",
       "    <tr>\n",
       "      <th>4</th>\n",
       "      <td>717_383</td>\n",
       "    </tr>\n",
       "  </tbody>\n",
       "</table>\n",
       "</div>"
      ],
      "text/plain": [
       "  route_id\n",
       "0   18_383\n",
       "1   18_383\n",
       "2   18_383\n",
       "3  425_383\n",
       "4  717_383"
      ]
     },
     "execution_count": 54,
     "metadata": {},
     "output_type": "execute_result"
    }
   ],
   "source": [
    "# Merge segments onto routes and collapse by count\n",
    "agg_routes = pd.DataFrame(\n",
    "    merge_end[['StartStation Id', 'EndStation Id']].apply(\n",
    "        func=lambda x: \"%i_%i\" % (x[0], x[1]),\n",
    "        axis=1),\n",
    "    columns = ['route_id'])\n",
    "\n",
    "agg_routes.head()"
   ]
  },
  {
   "cell_type": "code",
   "execution_count": 55,
   "metadata": {
    "collapsed": false
   },
   "outputs": [
    {
     "name": "stdout",
     "output_type": "stream",
     "text": [
      "(121298, 2)\n"
     ]
    },
    {
     "data": {
      "text/html": [
       "<div>\n",
       "<table border=\"1\" class=\"dataframe\">\n",
       "  <thead>\n",
       "    <tr style=\"text-align: right;\">\n",
       "      <th></th>\n",
       "      <th>route_id</th>\n",
       "      <th>c</th>\n",
       "    </tr>\n",
       "  </thead>\n",
       "  <tbody>\n",
       "    <tr>\n",
       "      <th>0</th>\n",
       "      <td>100_101</td>\n",
       "      <td>3</td>\n",
       "    </tr>\n",
       "    <tr>\n",
       "      <th>1</th>\n",
       "      <td>100_104</td>\n",
       "      <td>1</td>\n",
       "    </tr>\n",
       "    <tr>\n",
       "      <th>2</th>\n",
       "      <td>100_108</td>\n",
       "      <td>9</td>\n",
       "    </tr>\n",
       "    <tr>\n",
       "      <th>3</th>\n",
       "      <td>100_11</td>\n",
       "      <td>2</td>\n",
       "    </tr>\n",
       "    <tr>\n",
       "      <th>4</th>\n",
       "      <td>100_112</td>\n",
       "      <td>1</td>\n",
       "    </tr>\n",
       "  </tbody>\n",
       "</table>\n",
       "</div>"
      ],
      "text/plain": [
       "  route_id  c\n",
       "0  100_101  3\n",
       "1  100_104  1\n",
       "2  100_108  9\n",
       "3   100_11  2\n",
       "4  100_112  1"
      ]
     },
     "execution_count": 55,
     "metadata": {},
     "output_type": "execute_result"
    }
   ],
   "source": [
    "agg_routes['c'] = 1\n",
    "count_routes = agg_routes.groupby(['route_id']).sum()\n",
    "count_routes.reset_index(inplace=True)\n",
    "\n",
    "print(count_routes.shape)\n",
    "count_routes.head()"
   ]
  },
  {
   "cell_type": "code",
   "execution_count": 56,
   "metadata": {
    "collapsed": false
   },
   "outputs": [
    {
     "name": "stdout",
     "output_type": "stream",
     "text": [
      "(1302174, 6)\n"
     ]
    },
    {
     "data": {
      "text/html": [
       "<div>\n",
       "<table border=\"1\" class=\"dataframe\">\n",
       "  <thead>\n",
       "    <tr style=\"text-align: right;\">\n",
       "      <th></th>\n",
       "      <th>route_id</th>\n",
       "      <th>c</th>\n",
       "      <th>slon</th>\n",
       "      <th>slat</th>\n",
       "      <th>elon</th>\n",
       "      <th>elat</th>\n",
       "    </tr>\n",
       "  </thead>\n",
       "  <tbody>\n",
       "    <tr>\n",
       "      <th>0</th>\n",
       "      <td>100_101</td>\n",
       "      <td>3</td>\n",
       "      <td>-0.122587</td>\n",
       "      <td>51.490397</td>\n",
       "      <td>-0.550657</td>\n",
       "      <td>51.264435</td>\n",
       "    </tr>\n",
       "    <tr>\n",
       "      <th>1</th>\n",
       "      <td>100_101</td>\n",
       "      <td>3</td>\n",
       "      <td>-0.550657</td>\n",
       "      <td>51.264435</td>\n",
       "      <td>-0.704022</td>\n",
       "      <td>51.094319</td>\n",
       "    </tr>\n",
       "    <tr>\n",
       "      <th>2</th>\n",
       "      <td>100_101</td>\n",
       "      <td>3</td>\n",
       "      <td>-0.704022</td>\n",
       "      <td>51.094319</td>\n",
       "      <td>-0.917865</td>\n",
       "      <td>51.026138</td>\n",
       "    </tr>\n",
       "    <tr>\n",
       "      <th>3</th>\n",
       "      <td>100_101</td>\n",
       "      <td>3</td>\n",
       "      <td>-0.917865</td>\n",
       "      <td>51.026138</td>\n",
       "      <td>-1.113862</td>\n",
       "      <td>50.807071</td>\n",
       "    </tr>\n",
       "    <tr>\n",
       "      <th>4</th>\n",
       "      <td>100_101</td>\n",
       "      <td>3</td>\n",
       "      <td>-1.113862</td>\n",
       "      <td>50.807071</td>\n",
       "      <td>-1.043196</td>\n",
       "      <td>50.685613</td>\n",
       "    </tr>\n",
       "  </tbody>\n",
       "</table>\n",
       "</div>"
      ],
      "text/plain": [
       "  route_id  c      slon       slat      elon       elat\n",
       "0  100_101  3 -0.122587  51.490397 -0.550657  51.264435\n",
       "1  100_101  3 -0.550657  51.264435 -0.704022  51.094319\n",
       "2  100_101  3 -0.704022  51.094319 -0.917865  51.026138\n",
       "3  100_101  3 -0.917865  51.026138 -1.113862  50.807071\n",
       "4  100_101  3 -1.113862  50.807071 -1.043196  50.685613"
      ]
     },
     "execution_count": 56,
     "metadata": {},
     "output_type": "execute_result"
    }
   ],
   "source": [
    "routes = count_routes.merge(right = routes_complete, how='inner', on='route_id')\n",
    "routes.to_csv('counted_segments_to_plot.csv', header=True, index=None)\n",
    "print(routes.shape)\n",
    "routes.head()"
   ]
  },
  {
   "cell_type": "code",
   "execution_count": null,
   "metadata": {
    "collapsed": true
   },
   "outputs": [],
   "source": [
    "# Ready to plot (slon, slat) to (elon, elat)\n",
    "# Weighted by c"
   ]
  }
 ],
 "metadata": {
  "anaconda-cloud": {},
  "kernelspec": {
   "display_name": "Python [pythree]",
   "language": "python",
   "name": "Python [pythree]"
  },
  "language_info": {
   "codemirror_mode": {
    "name": "ipython",
    "version": 3
   },
   "file_extension": ".py",
   "mimetype": "text/x-python",
   "name": "python",
   "nbconvert_exporter": "python",
   "pygments_lexer": "ipython3",
   "version": "3.5.2"
  }
 },
 "nbformat": 4,
 "nbformat_minor": 0
}
